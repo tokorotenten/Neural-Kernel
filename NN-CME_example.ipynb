{
 "cells": [
  {
   "cell_type": "code",
   "execution_count": 1,
   "metadata": {},
   "outputs": [],
   "source": [
    "import numpy as np\n",
    "import math\n",
    "import jax\n",
    "import jax.numpy as jnp\n",
    "import jax.lax as lax\n",
    "import optax  \n",
    "import equinox as eqx"
   ]
  },
  {
   "cell_type": "markdown",
   "metadata": {},
   "source": [
    "## Toy Data Set Ups"
   ]
  },
  {
   "cell_type": "code",
   "execution_count": 4,
   "metadata": {},
   "outputs": [],
   "source": [
    "#Toy Data: Bimodal data in the paper\n",
    "class Bimodal():\n",
    "  def __init__(self):\n",
    "    self.sig = 0.05\n",
    "\n",
    "  def TrueFunc(self, X):\n",
    "    p = 1/(1+np.exp(-1.5*X))\n",
    "    Y=np.zeros((len(X),1))\n",
    "    for i, a in enumerate(p):\n",
    "        Y[i,0] = np.random.binomial(1,a,1)\n",
    "    Z = 0.2*X + Y + np.random.randn(len(Y),1)*(X*0.05)\n",
    "\n",
    "    return Z\n",
    "\n",
    "  def generate_train(self, N_x, N_y=1):\n",
    "    X = np.random.uniform(-5, 5, (N_x,1))\n",
    "    y = self.TrueFunc(X)\n",
    "\n",
    "    return [X,y]\n",
    "\n",
    "  def generate_test(self, N_y, N_x=200):\n",
    "    Xp = np.array([np.linspace(-5,5,N_x)]).T\n",
    "    Xp=np.repeat(Xp, N_y, axis=0)\n",
    "    yp = self.TrueFunc(Xp)\n",
    "    yp=np.reshape(yp, [N_x, N_y, 1])\n",
    "    Xp=np.reshape(Xp, [N_x, N_y, 1])\n",
    "\n",
    "    return [Xp,yp]"
   ]
  },
  {
   "cell_type": "code",
   "execution_count": 40,
   "metadata": {},
   "outputs": [
    {
     "name": "stderr",
     "output_type": "stream",
     "text": [
      "/var/folders/9v/bvw82hr17d5cyt29_v7bwb8r0000gn/T/ipykernel_6855/2985575698.py:10: DeprecationWarning: Conversion of an array with ndim > 0 to a scalar is deprecated, and will error in future. Ensure you extract a single element from your array before performing this operation. (Deprecated NumPy 1.25.)\n",
      "  Y[i,0] = np.random.binomial(1,a,1)\n"
     ]
    },
    {
     "data": {
      "image/png": "[encoded data removed]",
      "text/plain": [
       "<Figure size 640x480 with 1 Axes>"
      ]
     },
     "metadata": {},
     "output_type": "display_data"
    }
   ],
   "source": [
    "import matplotlib.pyplot as plt\n",
    "#training data\n",
    "X, y=Bimodal().generate_train(5000)\n",
    "plt.scatter(X,y)\n",
    "\n",
    "#test data\n",
    "Xp, yp=Bimodal().generate_test(50)\n",
    "Xpp=Xp[:,0,:]\n",
    "ypp=yp[:,0,:]"
   ]
  },
  {
   "cell_type": "markdown",
   "metadata": {},
   "source": [
    "## Defining NN-Based CME "
   ]
  },
  {
   "cell_type": "code",
   "execution_count": 12,
   "metadata": {},
   "outputs": [],
   "source": [
    "#Gaussian Density Kernel\n",
    "def Gram(X, Y, sig):\n",
    "  def pairwisedist(X,Y):\n",
    "    def dist(x,y):\n",
    "      z=x-y\n",
    "      return jnp.sqrt(jnp.sum(jnp.square(z)))\n",
    "    vmapped_dist = jax.vmap(dist, in_axes=(0, None))\n",
    "    return jax.vmap(vmapped_dist, in_axes=(None, 0))(X,Y)\n",
    "  S = pairwisedist(X, Y).T\n",
    "  scale=jnp.sqrt(2*math.pi*(sig**2))\n",
    "  return jnp.exp(- (S**2) / (2*sig**2))/scale\n",
    "\n",
    "\n",
    "#Two-Layer NN\n",
    "class NN(eqx.Module):\n",
    "  layers: list\n",
    "  ypcl: jax.Array\n",
    "  sig: jax.Array\n",
    "  def __init__(self, num_inputs, num_outputs, ypcl, sig_init, key):\n",
    "        key1, key2, key3, key4 = jax.random.split(key, 4)\n",
    "        self.layers = [\n",
    "            eqx.nn.Linear(num_inputs, 50, key=key1),\n",
    "            eqx.nn.Linear(50, 50, key=key2),\n",
    "            eqx.nn.Linear(50, num_outputs, key=key3),\n",
    "        ]\n",
    "        self.ypcl = ypcl\n",
    "        self.sig = jnp.log(jnp.expm1(sig_init))\n",
    "\n",
    "  def __call__(self, x, state):\n",
    "      x = jax.nn.relu(self.layers[0](x))\n",
    "      x = jax.nn.relu(self.layers[1](x))\n",
    "      x = self.layers[2](x)\n",
    "      sig = jax.nn.softplus(self.sig)\n",
    "\n",
    "      return x, state, lax.stop_gradient(self.ypcl), sig"
   ]
  },
  {
   "cell_type": "markdown",
   "metadata": {},
   "source": [
    "## Training (Proposal-Joint)"
   ]
  },
  {
   "cell_type": "code",
   "execution_count": 13,
   "metadata": {},
   "outputs": [],
   "source": [
    "def sample_batch(X, Y, batch_size, key):\n",
    "  indexes = jax.random.randint(key, shape=(batch_size, ), minval=0, maxval=X.shape[0])\n",
    "  return X[indexes], Y[indexes]\n",
    "\n",
    "def compute_loss(model, state, X, Y):\n",
    "  batch_model = jax.vmap(model, in_axes=(0, None), out_axes=(0, None, None, None))\n",
    "  f, state, ypcl, sig = batch_model(X, state)\n",
    "  loss= -2 * (Gram(Y, ypcl, sig)@f.T).diagonal().sum()+(Gram(ypcl, ypcl, sig)*(f.T@f)).sum()\n",
    "  return loss/X.shape[0], state\n",
    "\n",
    "@eqx.filter_jit\n",
    "def make_step(model, state, optim, opt_state, X, Y, batch_size, key):\n",
    "  x, y = sample_batch(X, Y, batch_size, key)\n",
    "  grads, state = eqx.filter_grad(compute_loss, has_aux=True)(model, state, x, y)\n",
    "  updates, opt_state = optim.update(grads, opt_state, model)\n",
    "  model = eqx.apply_updates(model, updates)\n",
    "  return model, state, opt_state\n",
    "\n",
    "def train(model, state, optim, opt_state, X, Y, batch_size, num_steps, key):\n",
    "  for steps in range(num_steps):\n",
    "    key, sub_key = jax.random.split(key, 2)\n",
    "    model, state, opt_state = make_step(model, state, optim, opt_state, X, Y, batch_size, sub_key)\n",
    "  return model, state"
   ]
  },
  {
   "cell_type": "code",
   "execution_count": 41,
   "metadata": {},
   "outputs": [],
   "source": [
    "#random seeds\n",
    "seed = 5678\n",
    "key = jax.random.PRNGKey(seed)\n",
    "mkey, xkey, xkey2 = jax.random.split(key, 3)\n",
    "\n",
    "num_inputs = X.shape[1]\n",
    "\n",
    "#location points\n",
    "numAtom = 100\n",
    "ymin = np.min(y)\n",
    "ymax= np.max(y)\n",
    "ypcl = jnp.array([np.linspace(ymin,ymax,numAtom)]).T\n",
    "\n",
    "#initial bandwidth\n",
    "sig_init = jnp.array(1.0)\n",
    "\n",
    "#initialize NN\n",
    "model, state = eqx.nn.make_with_state(NN)(num_inputs, numAtom, ypcl, sig_init, mkey)\n",
    "\n",
    "#optimizer\n",
    "optim = optax.adamw(1e-4)\n",
    "opt_state = optim.init(eqx.filter(model, eqx.is_inexact_array))\n",
    "\n",
    "#batch size/epochs\n",
    "batch_size = 50\n",
    "num_steps = int(5000/batch_size)*1000\n",
    "\n",
    "#train model\n",
    "model, state = train(model, state, optim, opt_state, X, y, batch_size, num_steps, xkey)"
   ]
  },
  {
   "cell_type": "markdown",
   "metadata": {},
   "source": [
    "## Kernel Herding (Sampling) on Test Points"
   ]
  },
  {
   "cell_type": "code",
   "execution_count": 16,
   "metadata": {},
   "outputs": [],
   "source": [
    "def eval_NKME(model, state, Gram, Xpp, yc):\n",
    "  inference_model = eqx.nn.inference_mode(model)\n",
    "  batch_inference_model = jax.vmap(inference_model, in_axes=(0, None), out_axes=(0, None, None, None))\n",
    "  f, state, ypcl, sig = batch_inference_model(Xpp, state)\n",
    "  f=f/(f.sum(1, keepdims = True))\n",
    "  kernelmean=(Gram(yc, ypcl, sig)@f.T).T\n",
    "  return kernelmean,sig\n",
    "\n",
    "def NKME_herding(mean_embedding, Gram, N_y, yc, sig):\n",
    "  super_samples = jnp.zeros((mean_embedding.shape[0], N_y, yc.shape[1]))\n",
    "  @jax.jit\n",
    "  def herding_objective(super_samples, yc, mu, mu_hat_sum, sig, i):\n",
    "    mu_hat = mu_hat_sum / (i + 1)\n",
    "    objective = mu - mu_hat\n",
    "    super_samples = super_samples.at[:,i,:].set(yc[jnp.argmax(objective, axis=1)])\n",
    "    mu_hat_sum_updated = mu_hat_sum + Gram(super_samples[:,i,:], yc, sig)\n",
    "    return super_samples, mu_hat_sum_updated\n",
    "\n",
    "  mu = mean_embedding\n",
    "  mu_hat_sum = jnp.zeros((mu.shape[0], mu.shape[1]))\n",
    "  for i in range(N_y):\n",
    "    super_samples, mu_hat_sum = herding_objective(super_samples, yc, mu, mu_hat_sum, sig, i)\n",
    "  return super_samples"
   ]
  },
  {
   "cell_type": "code",
   "execution_count": 44,
   "metadata": {},
   "outputs": [],
   "source": [
    "yc = np.array([np.linspace(ymin,ymax,1000)]).T\n",
    "\n",
    "#Evaluate KME for test points\n",
    "kernelmean, sig = eval_NKME(model, state, Gram, Xpp, yc)\n",
    "\n",
    "#Kernel Herding\n",
    "points = NKME_herding(kernelmean, Gram, 50, yc, sig)"
   ]
  },
  {
   "cell_type": "markdown",
   "metadata": {},
   "source": [
    "## Evaluate Wasserstein Distance"
   ]
  },
  {
   "cell_type": "code",
   "execution_count": 32,
   "metadata": {},
   "outputs": [],
   "source": [
    "import scipy\n",
    "def wasserstein(true_points, sample_points):\n",
    "  WAS=np.zeros((true_points.shape[0], 1))\n",
    "  if true_points.shape[2]==1:\n",
    "    for i in range(len(true_points)):\n",
    "      WAS[i]=scipy.stats.wasserstein_distance(true_points[i][:,0], sample_points[i][:,0])\n",
    "  else:\n",
    "    for i in range(len(true_points)):\n",
    "      d=cdist(true_points[i], sample_points[i])\n",
    "      assignment= scipy.optimize.linear_sum_assignment(d)\n",
    "      WAS[i]=d[assignment].sum()/true_points.shape[1]\n",
    "  return WAS"
   ]
  },
  {
   "cell_type": "code",
   "execution_count": 43,
   "metadata": {},
   "outputs": [
    {
     "name": "stdout",
     "output_type": "stream",
     "text": [
      "0.052600705383975266\n"
     ]
    }
   ],
   "source": [
    "# Calculate WAS-1\n",
    "was = wasserstein(yp, points).mean()\n",
    "print(was)"
   ]
  }
 ],
 "metadata": {
  "kernelspec": {
   "display_name": "env",
   "language": "python",
   "name": "python3"
  },
  "language_info": {
   "codemirror_mode": {
    "name": "ipython",
    "version": 3
   },
   "file_extension": ".py",
   "mimetype": "text/x-python",
   "name": "python",
   "nbconvert_exporter": "python",
   "pygments_lexer": "ipython3",
   "version": "3.9.6"
  },
  "orig_nbformat": 4
 },
 "nbformat": 4,
 "nbformat_minor": 2
}
